{
  "nbformat": 4,
  "nbformat_minor": 0,
  "metadata": {
    "colab": {
      "name": "Ej_Python_1851642.ipynb",
      "provenance": [],
      "collapsed_sections": [],
      "authorship_tag": "ABX9TyP2Mvhwp1aizjh1HFXvrbT2"
    },
    "kernelspec": {
      "name": "python3",
      "display_name": "Python 3"
    },
    "language_info": {
      "name": "python"
    }
  },
  "cells": [
    {
      "cell_type": "markdown",
      "metadata": {
        "id": "1Bkvnlc01hxb"
      },
      "source": [
        "\n",
        "# **Ejercicio 1:**\n",
        "Realiza una variable con tu matricula y realiza una secuencia de imprimir con tu nombre y tu matricula concatenados."
      ]
    },
    {
      "cell_type": "code",
      "metadata": {
        "colab": {
          "base_uri": "https://localhost:8080/"
        },
        "id": "WbdPEgRV1rgA",
        "outputId": "44c3ba44-8759-4056-fc4d-f9ea3c19dc01"
      },
      "source": [
        "Mat=1851642\n",
        "print(\"Hector Cedillo Charles\",Mat)"
      ],
      "execution_count": 1,
      "outputs": [
        {
          "output_type": "stream",
          "text": [
            "Hector Cedillo Charles 1851642\n"
          ],
          "name": "stdout"
        }
      ]
    },
    {
      "cell_type": "markdown",
      "metadata": {
        "id": "B9Iek_rX2AFc"
      },
      "source": [
        "# **Ejercicio 2:**\n",
        "Pidiendo el input del usuario pide dos números y crea una pequeña calculadora con los operadores básicos de suma, resta, multiplicación, división, y exponente.\n",
        "\n",
        "Utilizando el loop de while"
      ]
    },
    {
      "cell_type": "code",
      "metadata": {
        "colab": {
          "base_uri": "https://localhost:8080/"
        },
        "id": "MTIAuamj2CTy",
        "outputId": "07f85519-9847-4907-9a66-d61a6a9580d6"
      },
      "source": [
        "num1 = int(input(\"Introduce un número: \" )) #Pide los numeros al usuario\n",
        "num2 = int(input(\"Introduce otro número:  \"))\n",
        "#Realiza Operaciones\n",
        "print (\"La suma de los numeros es: \",num1+num2 )\n",
        "print(\"La resta del primer numeros y el segundo es: \",num1-num2 )\n",
        "print(\"La multiplicacion de los numeros es: \",num1*num2 )\n",
        "print(\"La division del primer numeros entre el segundo es: \",num1/num2 )\n",
        "print(\"El primer numero elevado al segundo numero es: \",num1**num2 )"
      ],
      "execution_count": 3,
      "outputs": [
        {
          "output_type": "stream",
          "text": [
            "Introduce un número: 7\n",
            "Introduce otro número:  5\n",
            "La suma de los numeros es:  12\n",
            "La resta del primer numeros y el segundo es:  2\n",
            "La multiplicacion de los numeros es:  35\n",
            "La division del primer numeros entre el segundo es:  1.4\n",
            "El primer numero elevado al segundo numero es:  16807\n"
          ],
          "name": "stdout"
        }
      ]
    },
    {
      "cell_type": "markdown",
      "metadata": {
        "id": "S5kvDJeQ20vr"
      },
      "source": [
        "# **Ejercicio 3:**\n",
        "Con loop while o for, realiza una lista de 10 numeros multiplos de 3, y después realiza una función de loop que sume todos los números dentro del arreglo."
      ]
    },
    {
      "cell_type": "code",
      "metadata": {
        "colab": {
          "base_uri": "https://localhost:8080/"
        },
        "id": "Mlo3U4eI25Du",
        "outputId": "88256de3-9c47-4d37-9240-4be3de9b308d"
      },
      "source": [
        "x=3 #Ingresamos el numero del cual seran multiplos los numeros\n",
        "suma=0\n",
        "i=0\n",
        "for i in range(0,10) :\n",
        "    print(x)\n",
        "    suma=suma+x\n",
        "    x=x+3\n",
        "    i=i+1\n",
        "\n",
        "print('La suma de los primeros 10 multiplos de 3 es: ',suma)"
      ],
      "execution_count": 4,
      "outputs": [
        {
          "output_type": "stream",
          "text": [
            "3\n",
            "6\n",
            "9\n",
            "12\n",
            "15\n",
            "18\n",
            "21\n",
            "24\n",
            "27\n",
            "30\n",
            "La suma de los primeros 10 multiplos de 3 es:  165\n"
          ],
          "name": "stdout"
        }
      ]
    },
    {
      "cell_type": "markdown",
      "metadata": {
        "id": "usLKTwGl6F0s"
      },
      "source": [
        "# **Ejercicio 4**\n",
        "Con una función de if else, revisar si un número es par o es impar.\n",
        "Con una función de if else, revisar si un número es primo o no.\n",
        "\n",
        "Uso de funciones en python:"
      ]
    },
    {
      "cell_type": "code",
      "metadata": {
        "colab": {
          "base_uri": "https://localhost:8080/"
        },
        "id": "VfkI8DyF6HWD",
        "outputId": "022cac0c-3954-4f5b-c555-5770c39e37ae"
      },
      "source": [
        "x= int(input(\"Introduce un número: \" ))\n",
        "#Codigo para par o impar\n",
        "if x%2==0:\n",
        "    print('El numero que ingreso es par')\n",
        "else:\n",
        "    print('El numero que ingreso es impar')\n",
        "#Codigo para primo o  no primo\n",
        "i=0\n",
        "c=0\n",
        "for i in range(2,x):\n",
        "    if x%i==0:\n",
        "        c=c+1\n",
        "if c==0:\n",
        "    print('El numero que ingreso es primo')\n",
        "else:\n",
        "    print('El numero que ingreso no es primo')"
      ],
      "execution_count": 9,
      "outputs": [
        {
          "output_type": "stream",
          "text": [
            "Introduce un número: 29\n",
            "El numero que ingreso es impar\n",
            "El numero que ingreso es primo\n"
          ],
          "name": "stdout"
        }
      ]
    },
    {
      "cell_type": "markdown",
      "metadata": {
        "id": "KW_vXtXa-ceT"
      },
      "source": [
        "# **Ejercicio 5**\n",
        "Utilizando diferentes clases en python, crea una calculadora con los operadores básicos de suma, resta, multiplicación, división, y exponente.\n",
        "\n",
        "Funciones matemáticas en la librería de math en python:"
      ]
    },
    {
      "cell_type": "code",
      "metadata": {
        "colab": {
          "base_uri": "https://localhost:8080/"
        },
        "id": "gGb4c32V-iWF",
        "outputId": "129ed527-8a46-427d-ceec-cb87d240f79c"
      },
      "source": [
        "import math as m\n",
        "print(\"Bienvenido, para salir pulse 6\")\n",
        "o=0\n",
        "x=0\n",
        "y=0\n",
        "z=0\n",
        "while o!=5:\n",
        "    o=int(input('Ingresa una opción:\\n0. Suma\\n1. Resta\\n2. Multiplicación\\n3. División\\n4. Potencia\\n5. Salir\\n\\nOpcion:'))\n",
        "    if o<0 or o>6:\n",
        "        o=int(input(\"Error \"))\n",
        "    if o==0:\n",
        "        x=float(input(\"Ingresa un número: \"))\n",
        "        y=float(input(\"Ingresa otro número: \"))\n",
        "        z=x+y\n",
        "        print(\"La suma de los números es: \",z)\n",
        "    if o==1:\n",
        "        x=float(input(\"Ingresa un número: \"))\n",
        "        y=float(input(\"Ingresa otro número: \"))\n",
        "        z=x-y\n",
        "        print(\"La resta de los números es: \",z)\n",
        "    if o==2:\n",
        "        x=float(input(\"Ingresa un número: \"))\n",
        "        y=float(input(\"Ingresa otro número: \"))\n",
        "        z=x*y\n",
        "        print(\"La multiplicacion de los números es: \",z)\n",
        "    if o==3:\n",
        "        x=float(input(\"Ingresa un número: \"))\n",
        "        y=float(input(\"Ingresa otro número: \"))\n",
        "        z=x/y\n",
        "        print(\"La division de los números es: \",z)\n",
        "    if o==4:\n",
        "        x=float(input(\"Ingresa un número: \"))\n",
        "        y=float(input(\"Ingresa otro número: \"))\n",
        "        z=x**y\n",
        "        print('El primer numero elevado al segundo numero es:',z)\n",
        "print(\"Gracias\")"
      ],
      "execution_count": 22,
      "outputs": [
        {
          "output_type": "stream",
          "text": [
            "Bienvenido, para salir pulse 6\n",
            "Ingresa una opción:\n",
            "0. Suma\n",
            "1. Resta\n",
            "2. Multiplicación\n",
            "3. División\n",
            "4. Potencia\n",
            "5. Salir\n",
            "\n",
            "Opcion:4\n",
            "Ingresa un número: 5\n",
            "Ingresa otro número: 3\n",
            "El primer numero elevado al segundo numero es: 125.0\n",
            "Ingresa una opción:\n",
            "0. Suma\n",
            "1. Resta\n",
            "2. Multiplicación\n",
            "3. División\n",
            "4. Potencia\n",
            "5. Salir\n",
            "\n",
            "Opcion:5\n",
            "Gracias\n"
          ],
          "name": "stdout"
        }
      ]
    },
    {
      "cell_type": "markdown",
      "metadata": {
        "id": "rq8wPbv7DC8w"
      },
      "source": [
        "# **Ejercicios con estructuras básicas de python.**\n",
        "## **Tuplas**\n",
        "Crear una variable flotante, integer, boleana y compleja e imprimir el tipo de variable que es.\n"
      ]
    },
    {
      "cell_type": "code",
      "metadata": {
        "colab": {
          "base_uri": "https://localhost:8080/"
        },
        "id": "su_E9tjpDWJY",
        "outputId": "9be45eb4-f2a5-46db-90f5-56a029fd2fd5"
      },
      "source": [
        "fl=2.34544\n",
        "i=1\n",
        "bo=True\n",
        "com=2+1j\n",
        "print('La variable',fl,'es de tipo',type(fl))\n",
        "print('La variable',i,'es de tipo',type(i))\n",
        "print('La variable',bo,'es de tipo',type(bo))\n",
        "print('La variable',com,'es de tipo',type(com))"
      ],
      "execution_count": 24,
      "outputs": [
        {
          "output_type": "stream",
          "text": [
            "La variable 2.34544 es de tipo <class 'float'>\n",
            "La variable 1 es de tipo <class 'int'>\n",
            "La variable True es de tipo <class 'bool'>\n",
            "La variable (2+1j) es de tipo <class 'complex'>\n"
          ],
          "name": "stdout"
        }
      ]
    },
    {
      "cell_type": "markdown",
      "metadata": {
        "id": "q_b8UlPUEFro"
      },
      "source": [
        "Crear una tupla con valores enteros imprimir el primer y ultimo valor."
      ]
    },
    {
      "cell_type": "code",
      "metadata": {
        "colab": {
          "base_uri": "https://localhost:8080/"
        },
        "id": "EJhakB-aEHEG",
        "outputId": "609cd925-d587-4c34-93de-386d757927a7"
      },
      "source": [
        "ar=(1,2,3,4,5,6,7,8,9,15)\n",
        "print(\"El primer valor es: \",ar[0],\" El ultimo valor es: \",ar[len(ar)-1])"
      ],
      "execution_count": 65,
      "outputs": [
        {
          "output_type": "stream",
          "text": [
            "El primer valor es:  1  El ultimo valor es:  15\n"
          ],
          "name": "stdout"
        }
      ]
    },
    {
      "cell_type": "markdown",
      "metadata": {
        "id": "pVv4p_TOFGnc"
      },
      "source": [
        "Añadir 3 valores de string a la tupla."
      ]
    },
    {
      "cell_type": "code",
      "metadata": {
        "colab": {
          "base_uri": "https://localhost:8080/"
        },
        "id": "-lAxX7vDFKMa",
        "outputId": "a64243df-f1cf-47e4-b6e7-0a847c0fcdcf"
      },
      "source": [
        "ar=ar+(\"Hola\",\"me llamo\",\"Hector\")\n",
        "print(ar)"
      ],
      "execution_count": 66,
      "outputs": [
        {
          "output_type": "stream",
          "text": [
            "(1, 2, 3, 4, 5, 6, 7, 8, 9, 15, 'Hola', 'me llamo', 'Hector')\n"
          ],
          "name": "stdout"
        }
      ]
    },
    {
      "cell_type": "markdown",
      "metadata": {
        "id": "RkzvbMuZFeUF"
      },
      "source": [
        "Verificar si una variable existe dentro de la tupla."
      ]
    },
    {
      "cell_type": "code",
      "metadata": {
        "colab": {
          "base_uri": "https://localhost:8080/"
        },
        "id": "hoHZImRvFfAU",
        "outputId": "74a47a59-6da0-4ff0-bb0e-cf3b653b6762"
      },
      "source": [
        "print(ar)\n",
        "tipo=input(\"Escriba el tipo de variable que busca: Int o String: \")\n",
        "if tipo==\"String\":\n",
        "  var=input(\"Ingrese la variable: \")\n",
        "  if var in ar:\n",
        "    print(\"La variable existe\")\n",
        "  else:\n",
        "    print(\"La variable no existe\")\n",
        "if tipo==\"Int\":\n",
        "  var=int(input(\"Ingrese la variable: \"))\n",
        "  if var in ar:\n",
        "    print(\"La variable existe\")\n",
        "  else:\n",
        "    print(\"La variable no existe\")\n"
      ],
      "execution_count": 69,
      "outputs": [
        {
          "output_type": "stream",
          "text": [
            "(1, 2, 3, 4, 5, 6, 7, 8, 9, 15, 'Hola', 'me llamo', 'Hector')\n",
            "Escriba el tipo de variable que busca: Int o String: Int\n",
            "Ingrese la variable: 4\n",
            "La variable existe\n"
          ],
          "name": "stdout"
        }
      ]
    },
    {
      "cell_type": "markdown",
      "metadata": {
        "id": "Xr8yTnMqJolq"
      },
      "source": [
        "# **Listas**\n",
        "Crear una lista con 40 elementos aleatorios enteros."
      ]
    },
    {
      "cell_type": "code",
      "metadata": {
        "colab": {
          "base_uri": "https://localhost:8080/"
        },
        "id": "YI6-ZzaoJqNI",
        "outputId": "3af45fc4-5856-4922-aa02-dcd570b875b6"
      },
      "source": [
        "import random\n",
        "X=range(1,250)\n",
        "lista1=random.sample(X,40)\n",
        "print(lista1)"
      ],
      "execution_count": 99,
      "outputs": [
        {
          "output_type": "stream",
          "text": [
            "[83, 18, 23, 69, 201, 10, 232, 243, 121, 218, 63, 208, 220, 237, 53, 202, 209, 70, 136, 7, 26, 134, 198, 185, 240, 248, 167, 12, 75, 137, 180, 204, 15, 82, 177, 166, 76, 84, 178, 42]\n"
          ],
          "name": "stdout"
        }
      ]
    },
    {
      "cell_type": "markdown",
      "metadata": {
        "id": "o9uInK1-KThH"
      },
      "source": [
        "Con una funcion (def) crear dos listas nuevas a partir de la lista creada por numeros aleatorios, en la cual en una esten los elementos pares, y en la otra los elementos impares."
      ]
    },
    {
      "cell_type": "code",
      "metadata": {
        "colab": {
          "base_uri": "https://localhost:8080/"
        },
        "id": "w__ASUPUKp6-",
        "outputId": "b3dbc062-3da5-4bc7-9426-34892de5476d"
      },
      "source": [
        "def par(lista):\n",
        "    par=list()\n",
        "    for x in lista:\n",
        "        if x%2==0:\n",
        "            par.append(x)\n",
        "    return par\n",
        "def impar(lista):\n",
        "    impar=list()\n",
        "    for x in lista:\n",
        "        if x%2!=0:\n",
        "            impar.append(x)\n",
        "    return impar\n",
        "listapar=par(lista1)\n",
        "print(listapar)\n",
        "listaimpar=impar(lista1)\n",
        "print(listaimpar)"
      ],
      "execution_count": 100,
      "outputs": [
        {
          "output_type": "stream",
          "text": [
            "[18, 10, 232, 218, 208, 220, 202, 70, 136, 26, 134, 198, 240, 248, 12, 180, 204, 82, 166, 76, 84, 178, 42]\n",
            "[83, 23, 69, 201, 243, 121, 63, 237, 53, 209, 7, 185, 167, 75, 137, 15, 177]\n"
          ],
          "name": "stdout"
        }
      ]
    },
    {
      "cell_type": "markdown",
      "metadata": {
        "id": "HBNukUCdMSZS"
      },
      "source": [
        "Crear dos variables con la longitud de ambas listas nuevas e imprimir las variables."
      ]
    },
    {
      "cell_type": "code",
      "metadata": {
        "colab": {
          "base_uri": "https://localhost:8080/"
        },
        "id": "LweA_aT1MUgB",
        "outputId": "e6f8fa4a-daf5-4102-adb8-06fe3a9b9f4d"
      },
      "source": [
        "npar=len(listapar)\n",
        "nimpar=len(listaimpar)\n",
        "print(\"Pares: \",npar,\"Impares: \",nimpar)"
      ],
      "execution_count": 101,
      "outputs": [
        {
          "output_type": "stream",
          "text": [
            "Pares:  23 Impares:  17\n"
          ],
          "name": "stdout"
        }
      ]
    },
    {
      "cell_type": "markdown",
      "metadata": {
        "id": "DI-Cx1orMtbV"
      },
      "source": [
        "Ordenar los elementos de la lista par de mayor a menor, y los de la lista impar de menor a mayor."
      ]
    },
    {
      "cell_type": "code",
      "metadata": {
        "colab": {
          "base_uri": "https://localhost:8080/"
        },
        "id": "ncdrokq2MuGI",
        "outputId": "56ff6be3-b894-4ee2-c159-ec349aaa38ca"
      },
      "source": [
        "listaimpar.sort()\n",
        "listapar.sort(reverse=True)\n",
        "print(\"Pares: \",listapar)\n",
        "print(\"Impares: \",listaimpar)"
      ],
      "execution_count": 102,
      "outputs": [
        {
          "output_type": "stream",
          "text": [
            "Pares:  [248, 240, 232, 220, 218, 208, 204, 202, 198, 180, 178, 166, 136, 134, 84, 82, 76, 70, 42, 26, 18, 12, 10]\n",
            "Impares:  [7, 15, 23, 53, 63, 69, 75, 83, 121, 137, 167, 177, 185, 201, 209, 237, 243]\n"
          ],
          "name": "stdout"
        }
      ]
    },
    {
      "cell_type": "markdown",
      "metadata": {
        "id": "9IXh9I-iNadU"
      },
      "source": [
        "Utilizar al menos cuatro de las funciones de listas en python en la lista original de 40 elementos."
      ]
    },
    {
      "cell_type": "code",
      "metadata": {
        "colab": {
          "base_uri": "https://localhost:8080/"
        },
        "id": "ELJO05PHNa20",
        "outputId": "81f0ab7c-c121-40e3-b3e4-4c1e0cdaa88f"
      },
      "source": [
        "print(\"Longitud de la lista: \",len(lista1))\n",
        "print(\"Suma de los numeros: \", sum(lista1))\n",
        "print(\"Numero menor de la lista: \",min(lista1))\n",
        "print(\"Numero mayor de la lista: \",max(lista1))"
      ],
      "execution_count": 103,
      "outputs": [
        {
          "output_type": "stream",
          "text": [
            "Longitud de la lista:  40\n",
            "Suma de los numeros:  5249\n",
            "Numero menor de la lista:  7\n",
            "Numero mayor de la lista:  248\n"
          ],
          "name": "stdout"
        }
      ]
    },
    {
      "cell_type": "markdown",
      "metadata": {
        "id": "Po0M2TSwORTP"
      },
      "source": [
        "# **Diccionarios**\n",
        "Crear un diccionario de 6 personas que conozcas con su primer nombre y su edad."
      ]
    },
    {
      "cell_type": "code",
      "metadata": {
        "colab": {
          "base_uri": "https://localhost:8080/"
        },
        "id": "L7JlMBraOlk8",
        "outputId": "aab806a5-f6dc-4906-9ff6-03e3fa2ff8b3"
      },
      "source": [
        "Dic={\"Hector\":19, \"Sebastian\":21, \"Garza Amaya\":20, \"Daniel\":20, \"Gustavo\":20,\"Alexis\":19}\n",
        "print(Dic)"
      ],
      "execution_count": 125,
      "outputs": [
        {
          "output_type": "stream",
          "text": [
            "{'Hector': 19, 'Sebastian': 21, 'Garza Amaya': 20, 'Daniel': 20, 'Gustavo': 20, 'Alexis': 19}\n"
          ],
          "name": "stdout"
        }
      ]
    },
    {
      "cell_type": "markdown",
      "metadata": {
        "id": "RQ02v90vQFl6"
      },
      "source": [
        "Crear una lista con los valores de la edad y reacomodar la lista de menor a mayor valor."
      ]
    },
    {
      "cell_type": "code",
      "metadata": {
        "colab": {
          "base_uri": "https://localhost:8080/"
        },
        "id": "_CXwVIYrQMHo",
        "outputId": "fb744207-2519-4164-ffb1-6be02ca53e26"
      },
      "source": [
        "edad=list()\n",
        "for i in Dic:\n",
        "  edad.append(Dic[i])\n",
        "edad.sort()\n",
        "print(edad)"
      ],
      "execution_count": 130,
      "outputs": [
        {
          "output_type": "stream",
          "text": [
            "[19, 19, 20, 20, 20, 21]\n"
          ],
          "name": "stdout"
        }
      ]
    },
    {
      "cell_type": "markdown",
      "metadata": {
        "id": "4re0AIEdRWx4"
      },
      "source": [
        "Usando el diccionario y un loop, imprimir solo los nombres."
      ]
    },
    {
      "cell_type": "code",
      "metadata": {
        "colab": {
          "base_uri": "https://localhost:8080/"
        },
        "id": "rTrxgpbERXwq",
        "outputId": "6c091d98-e6ae-4591-bf1a-adf9bf66ca6a"
      },
      "source": [
        "nombres=Dic.keys()\n",
        "for j in Dic:\n",
        "  print(j)"
      ],
      "execution_count": 131,
      "outputs": [
        {
          "output_type": "stream",
          "text": [
            "Hector\n",
            "Sebastian\n",
            "Garza Amaya\n",
            "Daniel\n",
            "Gustavo\n",
            "Alexis\n"
          ],
          "name": "stdout"
        }
      ]
    },
    {
      "cell_type": "markdown",
      "metadata": {
        "id": "nBzwaYHpTCpE"
      },
      "source": [
        "Añadir dos personas nuevas a tu diccionario, incluyendo edad."
      ]
    },
    {
      "cell_type": "code",
      "metadata": {
        "colab": {
          "base_uri": "https://localhost:8080/"
        },
        "id": "_sKg-zWLTDei",
        "outputId": "2af0a9c4-dcb8-471a-a04f-ee911532c5a4"
      },
      "source": [
        "Dic['Melchor']=20\n",
        "Dic['Ricky']=19\n",
        "print(Dic)"
      ],
      "execution_count": 132,
      "outputs": [
        {
          "output_type": "stream",
          "text": [
            "{'Hector': 19, 'Sebastian': 21, 'Garza Amaya': 20, 'Daniel': 20, 'Gustavo': 20, 'Alexis': 19, 'Melchor': 20, 'Ricky': 19}\n"
          ],
          "name": "stdout"
        }
      ]
    },
    {
      "cell_type": "markdown",
      "metadata": {
        "id": "vAhizh9qTbMG"
      },
      "source": [
        "# **Sets**\n",
        "Crea un set con 100 numeros aleatorios enteros del 1 al 25."
      ]
    },
    {
      "cell_type": "code",
      "metadata": {
        "colab": {
          "base_uri": "https://localhost:8080/"
        },
        "id": "GDCJNGVtTe59",
        "outputId": "6dd36d71-c156-461b-962c-025570cefc00"
      },
      "source": [
        "set=[random.randint(1,25) for _ in range(0,100)]\n",
        "print(set)"
      ],
      "execution_count": 138,
      "outputs": [
        {
          "output_type": "stream",
          "text": [
            "[14, 20, 10, 20, 14, 19, 19, 25, 20, 7, 16, 20, 17, 24, 8, 8, 5, 1, 4, 18, 17, 21, 17, 20, 11, 4, 14, 25, 7, 20, 1, 5, 1, 24, 12, 18, 21, 14, 4, 3, 4, 9, 15, 9, 1, 25, 12, 15, 16, 4, 14, 5, 6, 22, 22, 10, 4, 19, 10, 14, 8, 17, 13, 7, 15, 5, 12, 21, 7, 24, 22, 12, 23, 10, 25, 14, 10, 15, 12, 6, 4, 10, 7, 16, 12, 15, 11, 5, 8, 10, 11, 22, 13, 9, 24, 15, 24, 12, 10, 5]\n"
          ],
          "name": "stdout"
        }
      ]
    },
    {
      "cell_type": "markdown",
      "metadata": {
        "id": "L7qt4oBUVF4E"
      },
      "source": [
        "Comprueba la longitud de tu set."
      ]
    },
    {
      "cell_type": "code",
      "metadata": {
        "colab": {
          "base_uri": "https://localhost:8080/"
        },
        "id": "tPlXcNKeVGeK",
        "outputId": "172b7e34-3df1-4d1a-d04a-83c8812204a1"
      },
      "source": [
        "len(set)"
      ],
      "execution_count": 139,
      "outputs": [
        {
          "output_type": "execute_result",
          "data": {
            "text/plain": [
              "100"
            ]
          },
          "metadata": {},
          "execution_count": 139
        }
      ]
    },
    {
      "cell_type": "markdown",
      "metadata": {
        "id": "KBD81HkpVKSI"
      },
      "source": [
        "Crea una lista de 5 numeros aleatorios del 1 al 10 y comprueba si cada valor aparece en el set inicial."
      ]
    },
    {
      "cell_type": "code",
      "metadata": {
        "colab": {
          "base_uri": "https://localhost:8080/"
        },
        "id": "tm9GB8TEVLO6",
        "outputId": "5a06ad4f-87e9-4452-ac47-bd5054e2ae82"
      },
      "source": [
        "listar=[random.randint(1,5) for _ in range(1,10)]\n",
        "print(listar)\n",
        "for i in range(0,5):\n",
        "  if listar[i] in set:\n",
        "    print(listar[i], \" esta en el set inicial\")"
      ],
      "execution_count": 140,
      "outputs": [
        {
          "output_type": "stream",
          "text": [
            "[1, 1, 5, 1, 4, 3, 3, 4, 2]\n",
            "1  esta en el set inicial\n",
            "1  esta en el set inicial\n",
            "5  esta en el set inicial\n",
            "1  esta en el set inicial\n",
            "4  esta en el set inicial\n"
          ],
          "name": "stdout"
        }
      ]
    }
  ]
}